{
  "cells": [
    {
      "cell_type": "code",
      "execution_count": 7,
      "metadata": {
        "id": "4-lWuOXlP6VP"
      },
      "outputs": [],
      "source": [
        "import torch\n",
        "import torch.nn as nn #contains different classess that help you build neural network models. like activation fun forward\n",
        "import torchvision #for datasets\n",
        "import torchvision.transforms as transforms #used for image transforms to tensor\n",
        "import matplotlib.pyplot as plt #to plot"
      ]
    },
    {
      "cell_type": "code",
      "execution_count": null,
      "metadata": {
        "colab": {
          "base_uri": "https://localhost:8080/"
        },
        "id": "3PIYnDLDTjpI",
        "outputId": "4f58bdc2-d838-435a-9f06-ce77943d3368"
      },
      "outputs": [],
      "source": [
        "device=torch.device('cuda' if torch.cuda.is_available() else 'cpu')\n",
        "in_size=784\n",
        "hi_size=100\n",
        "num_classes=10\n",
        "num_ep=100\n",
        "batch_size=512\n",
        "learning_rate=0.005\n",
        "train_dataset=torchvision.datasets.MNIST(root='./data',train=True,transform=transforms.ToTensor(),download=True)#downloads the data \n",
        "test_dataset=torchvision.datasets.MNIST(root='./data',train=False,transform=transforms.ToTensor())\n",
        "\n",
        "train_loader = torch.utils.data.DataLoader(dataset=train_dataset,batch_size=batch_size,shuffle=True)\n",
        "#Combines a dataset and a sampler, and provides an iterable over the given datas\n",
        "test_loader = torch.utils.data.DataLoader(dataset=test_dataset,batch_size=batch_size,shuffle=False)\n",
        "print(len(train_loader))\n",
        "examples= iter(train_loader) # returns an iterator for the given object\n",
        "samples,labels=examples.next()\n",
        "print(samples.shape,labels.shape)"
      ]
    },
    {
      "cell_type": "code",
      "execution_count": null,
      "metadata": {
        "colab": {
          "base_uri": "https://localhost:8080/",
          "height": 415
        },
        "id": "TAOjg1_YZtbM",
        "outputId": "6ee3e681-c46d-4e74-dbb0-e3c7f708d7ec"
      },
      "outputs": [],
      "source": [
        "class NeuralNet(nn.Module): #class for making forward prob\n",
        "  def __init__(self,in_size,hi_size,num_classes):\n",
        "    super(NeuralNet,self).__init__()\n",
        "    self.l1=nn.Linear(in_size,hi_size)\n",
        "    self.relu= nn.ReLU()\n",
        "    self.l2=nn.Linear(hi_size,num_classes)\n",
        "  def forward(self,x):\n",
        "    out=self.l1(x)\n",
        "    out=self.relu(out)\n",
        "    out=self.l2(out) #don't use sigmoid as it comes in  cross entropy loss\n",
        "    return out\n",
        "\n",
        "model= NeuralNet(in_size,hi_size,num_classes)\n",
        "\n",
        "criterion=nn.CrossEntropyLoss() #computes loss\n",
        "\n",
        "optimizer=torch.optim.Adam(model.parameters(),lr=learning_rate)\n",
        "#Optimizers are algorithms or methods used to change the attributes of the neural network such as weights and learning rate to reduce the losses\n",
        "#training loop\n",
        "train_losses = []\n",
        "train_counter = []\n",
        "test_losses = []\n",
        "n_steps=len(train_loader)\n",
        "for epoch in range(num_ep):#will loop over epochs\n",
        "  for i,(images,labels) in enumerate(train_loader): #enumerate loops over the given data and gives labels i mean changes them after every iter\n",
        "    images=images.reshape(-1,28*28).to(device) #before it was 100,1,28,28 now 100,784\n",
        "    labels=labels.to(device)\n",
        "    #forward\n",
        "    outputs=model(images)\n",
        "    loss=criterion(outputs,labels)\n",
        "    train_losses.append(loss.item())\n",
        "\n",
        "    #backward\n",
        "    optimizer.zero_grad()#empty grad\n",
        "    loss.backward()#does backprop\n",
        "    optimizer.step()#upates the parameters for us\n",
        "    if (i+1) % 100 == 0:\n",
        "      print(f'Train Epoch: {epoch+1}/{num_ep}, step{i+1}/{n_steps}, loss ={loss.item():.4f}')\n",
        "\n",
        "\n",
        "\n",
        "def test(): \n",
        "  with torch.no_grad():\n",
        "    n_correct = 0\n",
        "    n_samples = 0\n",
        "    for images, labels in test_loader:\n",
        "      images = images.reshape(-1, 28*28)\n",
        "      outputs = model(images)\n",
        "\n",
        "      _,predictions = torch.max(outputs, 1) #torch.max function will return the value and the index and we are interested in the actual index\n",
        "      n_samples += labels.shape[0]\n",
        "      n_correct += (predictions == labels).sum().item()\n",
        "  \n",
        "    acc = 100* n_correct / n_samples\n",
        "    print(f'Test accuracy = {acc:.4f}')\n",
        "\n",
        "def train(): \n",
        "  with torch.no_grad():\n",
        "    n_correct = 0\n",
        "    n_samples = 0\n",
        "    for images, labels in train_loader:\n",
        "      images = images.reshape(-1, 28*28)\n",
        "      outputs = model(images)\n",
        "\n",
        "      _,predictions = torch.max(outputs, 1) #torch.max function will return the value and the index and we are interested in the actual index\n",
        "      n_samples += labels.shape[0]\n",
        "      n_correct += (predictions == labels).sum().item()\n",
        "  \n",
        "    acc = 100* n_correct / n_samples\n",
        "    print(f'Training accuracy = {acc:.4f}')\n",
        "\n",
        "train()\n",
        "test()\n",
        "\n",
        "\n",
        "\n",
        "\n",
        "\n",
        "\n",
        "          "
      ]
    },
    {
      "cell_type": "code",
      "execution_count": null,
      "metadata": {
        "id": "TDoOmNE1WuFj"
      },
      "outputs": [],
      "source": [
        "plt.plot(train_losses)\n",
        "plt.xlabel(\"iterations\")\n",
        "plt.ylabel(\"Loss\")\n",
        "plt.title(\"Learning rate 0.001\")"
      ]
    },
    {
      "cell_type": "code",
      "execution_count": null,
      "metadata": {
        "id": "X3KhL2pOyfr0"
      },
      "outputs": [],
      "source": [
        "for images, labels in test_loader:\n",
        "      sample_image = images[0].reshape(-1, 28*28)\n",
        "      output = model(sample_image)\n",
        "      sample_label=labels[0]\n",
        "      _,prediction = torch.max(output, 1)\n",
        "      print(prediction)\n",
        "      print(sample_label)\n",
        "\n"
      ]
    }
  ],
  "metadata": {
    "colab": {
      "collapsed_sections": [],
      "name": "mnistorch.ipynb",
      "provenance": []
    },
    "kernelspec": {
      "display_name": "Python 3",
      "name": "python3"
    },
    "language_info": {
      "name": "python"
    }
  },
  "nbformat": 4,
  "nbformat_minor": 0
}
